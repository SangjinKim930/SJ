{
  "nbformat": 4,
  "nbformat_minor": 0,
  "metadata": {
    "colab": {
      "name": "네이버증권크롤링.ipynb",
      "provenance": [],
      "collapsed_sections": [],
      "mount_file_id": "1CfXJ7SvuKyx3XcaYrCSpt_sAydT1KRLO",
      "authorship_tag": "ABX9TyPQacJ1lijpbjI+ruZUxhV8",
      "include_colab_link": true
    },
    "kernelspec": {
      "name": "python3",
      "display_name": "Python 3"
    },
    "language_info": {
      "name": "python"
    }
  },
  "cells": [
    {
      "cell_type": "markdown",
      "metadata": {
        "id": "view-in-github",
        "colab_type": "text"
      },
      "source": [
        "<a href=\"https://colab.research.google.com/github/SangjinKim930/SJ/blob/main/%EB%84%A4%EC%9D%B4%EB%B2%84%EC%A6%9D%EA%B6%8C%ED%81%AC%EB%A1%A4%EB%A7%81.ipynb\" target=\"_parent\"><img src=\"https://colab.research.google.com/assets/colab-badge.svg\" alt=\"Open In Colab\"/></a>"
      ]
    },
    {
      "cell_type": "code",
      "metadata": {
        "id": "hq0iC14aMulr"
      },
      "source": [
        "from bs4 import BeautifulSoup\n",
        "import requests\n",
        "import re\n",
        "import pandas as pd\n",
        "import os\n",
        "\n",
        "\n",
        "os.chdir('/content/drive/MyDrive/삼성전자')\n",
        "\n",
        "\n",
        "def crawler(company_code, maxpage):\n",
        "\n",
        "    page = 1\n",
        "\n",
        "    while page <= int(maxpage):\n",
        "        url = 'https://finance.naver.com/item/news_news.nhn?code=' + str(company_code) + '&page=' + str(page)\n",
        "        source_code = requests.get(url).text\n",
        "        html = BeautifulSoup(source_code, \"lxml\")\n",
        "\n",
        "        # 뉴스 제목\n",
        "        titles = html.select('.title')\n",
        "\n",
        "        title_result=[]\n",
        "        for title in titles:\n",
        "            title = title.get_text()\n",
        "            title = re.sub('\\n','',title)\n",
        "            title_result.append(title)\n",
        "\n",
        "        # 뉴스 링크\n",
        "        # links = html.select('.title')\n",
        "\n",
        "        # link_result =[]\n",
        "        # for link in links:\n",
        "        #     add = 'https://finance.naver.com' + link.find('a')['href']\n",
        "        #     link_result.append(add)\n",
        "\n",
        "\n",
        "        # 뉴스 날짜\n",
        "        dates = html.select('.date')\n",
        "        date_result = [date.get_text() for date in dates]\n",
        "\n",
        "        # 뉴스 매체\n",
        "        sources = html.select('.info')\n",
        "        source_result = [source.get_text() for source in sources]\n",
        "\n",
        "\n",
        "       # 변수들 합쳐서 해당 디렉토리에 csv파일로 저장하기\n",
        "        result= {\"날짜\" : date_result, \"언론사\" : source_result, \"기사제목\" : title_result, \"링크\" : link_result}\n",
        "        df_result = pd.DataFrame(result)\n",
        "        print(\"다운 받고 있습니다------\")\n",
        "        df_result.to_csv('page' + str(page) + '.csv', mode='w', encoding='utf-8-sig')\n",
        "\n",
        "\n",
        "        page += 1\n",
        "\n",
        "\n",
        "\n",
        "\n",
        "# 종목 리스트 파일 열기\n",
        "# 회사명을 종목코드로 변환\n",
        "def convert_to_code(company, maxpage):\n",
        "    file_path = '/content/drive/MyDrive/company_list.txt'\n",
        "    data = pd.read_csv(file_path, dtype=str, sep='\\t') # 종목코드 추출\n",
        "    company_name = data['회사명']\n",
        "    keys = [i for i in company_name] #데이터프레임에서 리스트로 바꾸기\n",
        "    company_code = data['종목코드']\n",
        "\n",
        "    values = [j for j in company_code]\n",
        "    dict_result = dict(zip(keys, values)) # 딕셔너리 형태로 회사이름과 종목코드 묶기\n",
        "    pattern = '[a-zA-Z가-힣]+'\n",
        "\n",
        "    if bool(re.match(pattern, company)) == True: # Input에 이름으로 넣었을 때\n",
        "        company_code = dict_result.get(str(company))\n",
        "        crawler(company_code, maxpage)\n",
        "\n",
        "    else: # Input에 종목코드로 넣었을 때\n",
        "        company_code = str(company)\n",
        "        crawler(company_code, maxpage)\n",
        "\n",
        "\n",
        "\n",
        "\n",
        "def main():\n",
        "    info_main = input(\"=\"*50+\"\\n\"+\"실시간 뉴스기사 다운받기.\"+\"\\n\"+\" 시작하시려면 Enter를 눌러주세요.\"+\"\\n\"+\"=\"*50)\n",
        "    company = input(\"종목 이름이나 코드 입력: \")\n",
        "    maxpage = input(\"최대 뉴스 페이지 수 입력: \")\n",
        "    convert_to_code(company, maxpage)\n",
        "\n",
        "\n",
        "\n"
      ],
      "execution_count": 9,
      "outputs": []
    },
    {
      "cell_type": "code",
      "metadata": {
        "colab": {
          "base_uri": "https://localhost:8080/"
        },
        "id": "ISNoOqekOSJz",
        "outputId": "f74ef7c3-9a51-4036-bcfd-2fc021ecee56"
      },
      "source": [
        "main()"
      ],
      "execution_count": 7,
      "outputs": [
        {
          "output_type": "stream",
          "text": [
            "==================================================\n",
            "실시간 뉴스기사 다운받기.\n",
            " 시작하시려면 Enter를 눌러주세요.\n",
            "==================================================\n",
            "종목 이름이나 코드 입력: 삼성전자\n",
            "최대 뉴스 페이지 수 입력: 20\n",
            "다운 받고 있습니다------\n",
            "다운 받고 있습니다------\n",
            "다운 받고 있습니다------\n",
            "다운 받고 있습니다------\n",
            "다운 받고 있습니다------\n",
            "다운 받고 있습니다------\n",
            "다운 받고 있습니다------\n",
            "다운 받고 있습니다------\n",
            "다운 받고 있습니다------\n",
            "다운 받고 있습니다------\n",
            "다운 받고 있습니다------\n",
            "다운 받고 있습니다------\n",
            "다운 받고 있습니다------\n",
            "다운 받고 있습니다------\n",
            "다운 받고 있습니다------\n",
            "다운 받고 있습니다------\n",
            "다운 받고 있습니다------\n",
            "다운 받고 있습니다------\n",
            "다운 받고 있습니다------\n",
            "다운 받고 있습니다------\n"
          ],
          "name": "stdout"
        }
      ]
    },
    {
      "cell_type": "code",
      "metadata": {
        "id": "gGZkYkcIgztn"
      },
      "source": [
        ""
      ],
      "execution_count": null,
      "outputs": []
    }
  ]
}