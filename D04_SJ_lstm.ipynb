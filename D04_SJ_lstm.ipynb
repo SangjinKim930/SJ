{
  "nbformat": 4,
  "nbformat_minor": 0,
  "metadata": {
    "language_info": {
      "codemirror_mode": {
        "name": "ipython",
        "version": 3
      },
      "file_extension": ".py",
      "mimetype": "text/x-python",
      "name": "python",
      "nbconvert_exporter": "python",
      "pygments_lexer": "ipython3",
      "version": "3.7.9-final"
    },
    "orig_nbformat": 2,
    "kernelspec": {
      "name": "python3",
      "display_name": "Python 3.7.9 64-bit ('thegreatgaespi': conda)",
      "metadata": {
        "interpreter": {
          "hash": "e987761d876c94762b6dfe4ca0707081a3ca6ef64f8d6dc7b507d82068709d5d"
        }
      }
    },
    "colab": {
      "name": "D04_SJ_lstm.ipynb",
      "provenance": [],
      "collapsed_sections": [],
      "include_colab_link": true
    }
  },
  "cells": [
    {
      "cell_type": "markdown",
      "metadata": {
        "id": "view-in-github",
        "colab_type": "text"
      },
      "source": [
        "<a href=\"https://colab.research.google.com/github/SangjinKim930/SJ/blob/main/D04_SJ_lstm.ipynb\" target=\"_parent\"><img src=\"https://colab.research.google.com/assets/colab-badge.svg\" alt=\"Open In Colab\"/></a>"
      ]
    },
    {
      "cell_type": "code",
      "metadata": {
        "colab": {
          "base_uri": "https://localhost:8080/"
        },
        "id": "G3TGYJO7fTpk",
        "outputId": "847da477-63a1-4e9a-dde1-1d2a9749b4b4"
      },
      "source": [
        "!pip install -U finance-datareader\n",
        "# 패키지 설치 안되신 분은 위에 코드 주석해제하시고 패키지를 설치해주세요.\n",
        "# ref: https://github.com/huseinzol05/Stock-Prediction-Models\n",
        "# and TGG amended some parameters and built data-pipeline which enables the code use FinanceDataReader data"
      ],
      "execution_count": null,
      "outputs": [
        {
          "output_type": "stream",
          "text": [
            "Collecting finance-datareader\n",
            "  Downloading https://files.pythonhosted.org/packages/83/5e/54306e72b5ff5d5ec6cc9f32cdf19602237f9bb70d64efcd527338388be3/finance_datareader-0.9.31-py3-none-any.whl\n",
            "Requirement already satisfied, skipping upgrade: tqdm in /usr/local/lib/python3.7/dist-packages (from finance-datareader) (4.41.1)\n",
            "Requirement already satisfied, skipping upgrade: requests>=2.3.0 in /usr/local/lib/python3.7/dist-packages (from finance-datareader) (2.23.0)\n",
            "Requirement already satisfied, skipping upgrade: lxml in /usr/local/lib/python3.7/dist-packages (from finance-datareader) (4.2.6)\n",
            "Requirement already satisfied, skipping upgrade: pandas>=0.19.2 in /usr/local/lib/python3.7/dist-packages (from finance-datareader) (1.1.5)\n",
            "Collecting requests-file\n",
            "  Downloading https://files.pythonhosted.org/packages/77/86/cdb5e8eaed90796aa83a6d9f75cfbd37af553c47a291cd47bc410ef9bdb2/requests_file-1.5.1-py2.py3-none-any.whl\n",
            "Requirement already satisfied, skipping upgrade: chardet<4,>=3.0.2 in /usr/local/lib/python3.7/dist-packages (from requests>=2.3.0->finance-datareader) (3.0.4)\n",
            "Requirement already satisfied, skipping upgrade: idna<3,>=2.5 in /usr/local/lib/python3.7/dist-packages (from requests>=2.3.0->finance-datareader) (2.10)\n",
            "Requirement already satisfied, skipping upgrade: urllib3!=1.25.0,!=1.25.1,<1.26,>=1.21.1 in /usr/local/lib/python3.7/dist-packages (from requests>=2.3.0->finance-datareader) (1.24.3)\n",
            "Requirement already satisfied, skipping upgrade: certifi>=2017.4.17 in /usr/local/lib/python3.7/dist-packages (from requests>=2.3.0->finance-datareader) (2020.12.5)\n",
            "Requirement already satisfied, skipping upgrade: pytz>=2017.2 in /usr/local/lib/python3.7/dist-packages (from pandas>=0.19.2->finance-datareader) (2018.9)\n",
            "Requirement already satisfied, skipping upgrade: python-dateutil>=2.7.3 in /usr/local/lib/python3.7/dist-packages (from pandas>=0.19.2->finance-datareader) (2.8.1)\n",
            "Requirement already satisfied, skipping upgrade: numpy>=1.15.4 in /usr/local/lib/python3.7/dist-packages (from pandas>=0.19.2->finance-datareader) (1.19.5)\n",
            "Requirement already satisfied, skipping upgrade: six in /usr/local/lib/python3.7/dist-packages (from requests-file->finance-datareader) (1.15.0)\n",
            "Installing collected packages: requests-file, finance-datareader\n",
            "Successfully installed finance-datareader-0.9.31 requests-file-1.5.1\n"
          ],
          "name": "stdout"
        }
      ]
    },
    {
      "cell_type": "markdown",
      "metadata": {
        "id": "Yg8pb0KpfUko"
      },
      "source": [
        "# 새 섹션"
      ]
    },
    {
      "cell_type": "code",
      "metadata": {
        "id": "n1pA2voFfTps"
      },
      "source": [
        "import pandas as pd\n",
        "from sklearn import preprocessing\n",
        "import numpy as np\n",
        "import FinanceDataReader as fdr"
      ],
      "execution_count": null,
      "outputs": []
    },
    {
      "cell_type": "code",
      "metadata": {
        "id": "xkew71CeDVid",
        "colab": {
          "base_uri": "https://localhost:8080/",
          "height": 431
        },
        "outputId": "53678a1d-c5e8-4694-9088-916b0203697f"
      },
      "source": [
        "data"
      ],
      "execution_count": null,
      "outputs": [
        {
          "output_type": "execute_result",
          "data": {
            "text/html": [
              "<div>\n",
              "<style scoped>\n",
              "    .dataframe tbody tr th:only-of-type {\n",
              "        vertical-align: middle;\n",
              "    }\n",
              "\n",
              "    .dataframe tbody tr th {\n",
              "        vertical-align: top;\n",
              "    }\n",
              "\n",
              "    .dataframe thead th {\n",
              "        text-align: right;\n",
              "    }\n",
              "</style>\n",
              "<table border=\"1\" class=\"dataframe\">\n",
              "  <thead>\n",
              "    <tr style=\"text-align: right;\">\n",
              "      <th></th>\n",
              "      <th>Open</th>\n",
              "      <th>High</th>\n",
              "      <th>Low</th>\n",
              "      <th>Close</th>\n",
              "      <th>Volume</th>\n",
              "    </tr>\n",
              "    <tr>\n",
              "      <th>Date</th>\n",
              "      <th></th>\n",
              "      <th></th>\n",
              "      <th></th>\n",
              "      <th></th>\n",
              "      <th></th>\n",
              "    </tr>\n",
              "  </thead>\n",
              "  <tbody>\n",
              "    <tr>\n",
              "      <th>2015-01-02</th>\n",
              "      <td>26799</td>\n",
              "      <td>26799</td>\n",
              "      <td>26540</td>\n",
              "      <td>26600</td>\n",
              "      <td>175499</td>\n",
              "    </tr>\n",
              "    <tr>\n",
              "      <th>2015-01-05</th>\n",
              "      <td>26720</td>\n",
              "      <td>26720</td>\n",
              "      <td>26260</td>\n",
              "      <td>26660</td>\n",
              "      <td>202790</td>\n",
              "    </tr>\n",
              "    <tr>\n",
              "      <th>2015-01-06</th>\n",
              "      <td>26300</td>\n",
              "      <td>26340</td>\n",
              "      <td>25760</td>\n",
              "      <td>25900</td>\n",
              "      <td>304710</td>\n",
              "    </tr>\n",
              "    <tr>\n",
              "      <th>2015-01-07</th>\n",
              "      <td>25880</td>\n",
              "      <td>26220</td>\n",
              "      <td>25640</td>\n",
              "      <td>26140</td>\n",
              "      <td>286455</td>\n",
              "    </tr>\n",
              "    <tr>\n",
              "      <th>2015-01-08</th>\n",
              "      <td>26780</td>\n",
              "      <td>26780</td>\n",
              "      <td>26199</td>\n",
              "      <td>26280</td>\n",
              "      <td>289552</td>\n",
              "    </tr>\n",
              "    <tr>\n",
              "      <th>...</th>\n",
              "      <td>...</td>\n",
              "      <td>...</td>\n",
              "      <td>...</td>\n",
              "      <td>...</td>\n",
              "      <td>...</td>\n",
              "    </tr>\n",
              "    <tr>\n",
              "      <th>2021-03-24</th>\n",
              "      <td>81000</td>\n",
              "      <td>81600</td>\n",
              "      <td>80700</td>\n",
              "      <td>81000</td>\n",
              "      <td>17926638</td>\n",
              "    </tr>\n",
              "    <tr>\n",
              "      <th>2021-03-25</th>\n",
              "      <td>81000</td>\n",
              "      <td>82100</td>\n",
              "      <td>80800</td>\n",
              "      <td>81200</td>\n",
              "      <td>14758826</td>\n",
              "    </tr>\n",
              "    <tr>\n",
              "      <th>2021-03-26</th>\n",
              "      <td>81400</td>\n",
              "      <td>81600</td>\n",
              "      <td>81000</td>\n",
              "      <td>81500</td>\n",
              "      <td>12845778</td>\n",
              "    </tr>\n",
              "    <tr>\n",
              "      <th>2021-03-29</th>\n",
              "      <td>81700</td>\n",
              "      <td>81700</td>\n",
              "      <td>81000</td>\n",
              "      <td>81600</td>\n",
              "      <td>14952134</td>\n",
              "    </tr>\n",
              "    <tr>\n",
              "      <th>2021-03-30</th>\n",
              "      <td>81600</td>\n",
              "      <td>82300</td>\n",
              "      <td>81300</td>\n",
              "      <td>82200</td>\n",
              "      <td>13121698</td>\n",
              "    </tr>\n",
              "  </tbody>\n",
              "</table>\n",
              "<p>1534 rows × 5 columns</p>\n",
              "</div>"
            ],
            "text/plain": [
              "             Open   High    Low  Close    Volume\n",
              "Date                                            \n",
              "2015-01-02  26799  26799  26540  26600    175499\n",
              "2015-01-05  26720  26720  26260  26660    202790\n",
              "2015-01-06  26300  26340  25760  25900    304710\n",
              "2015-01-07  25880  26220  25640  26140    286455\n",
              "2015-01-08  26780  26780  26199  26280    289552\n",
              "...           ...    ...    ...    ...       ...\n",
              "2021-03-24  81000  81600  80700  81000  17926638\n",
              "2021-03-25  81000  82100  80800  81200  14758826\n",
              "2021-03-26  81400  81600  81000  81500  12845778\n",
              "2021-03-29  81700  81700  81000  81600  14952134\n",
              "2021-03-30  81600  82300  81300  82200  13121698\n",
              "\n",
              "[1534 rows x 5 columns]"
            ]
          },
          "metadata": {
            "tags": []
          },
          "execution_count": 30
        }
      ]
    },
    {
      "cell_type": "code",
      "metadata": {
        "id": "ipLqZxEQDDIu"
      },
      "source": [
        "data=fdr.DataReader('005930', '2015-01-01','2021-03-30')\n",
        "data=data.iloc[:,0:-1]\n",
        "data=data.values"
      ],
      "execution_count": null,
      "outputs": []
    },
    {
      "cell_type": "code",
      "metadata": {
        "id": "EtVZmJxWDtCH"
      },
      "source": [
        "data_normalizer = preprocessing.MinMaxScaler()"
      ],
      "execution_count": null,
      "outputs": []
    },
    {
      "cell_type": "code",
      "metadata": {
        "id": "uHkPvpdhDvQo"
      },
      "source": [
        "data_normalized = data_normalizer.fit_transform(data)"
      ],
      "execution_count": null,
      "outputs": []
    },
    {
      "cell_type": "code",
      "metadata": {
        "id": "jEDy09rtDzZP",
        "colab": {
          "base_uri": "https://localhost:8080/"
        },
        "outputId": "e90bbfd9-b929-45a9-cb67-60354a42bc90"
      },
      "source": [
        "data_normalized.shape"
      ],
      "execution_count": null,
      "outputs": [
        {
          "output_type": "execute_result",
          "data": {
            "text/plain": [
              "(1534, 5)"
            ]
          },
          "metadata": {
            "tags": []
          },
          "execution_count": 35
        }
      ]
    },
    {
      "cell_type": "code",
      "metadata": {
        "id": "-Uy0pkccfTpt"
      },
      "source": [
        "def call_dataset(ticker = '005930', stt = '2015-01-01', end = '2021-03-30', history_points = 50):\n",
        "    data = fdr.DataReader(ticker, stt, end)\n",
        "    data = data.iloc[:,0:-1]\n",
        "    print('data: ', data.shape)\n",
        "    data = data.values # 값만 갖고온다.\n",
        "    data_normalizer = preprocessing.MinMaxScaler() # 데이터를 0~1 범위로 점철되게 하는 함수 call\n",
        "    data_normalized = data_normalizer.fit_transform(data) # 데이터를 0~1 범위로 점철되게 함수 수행\n",
        "    print('data_normalized: ', data_normalized.shape)\n",
        "     # using the last {history_points} open close high low volume data points, predict the next open value\n",
        "    ohlcv_histories_normalized = np.array([data_normalized[i:i + history_points].copy() for i in range(len(data_normalized) - history_points)]) # ohlcv를 가지고 오되, 관찰일수 만큼 누적해서 쌓는다. (열방향으로)\n",
        "    print('ohlcv_histories_normalized: ', ohlcv_histories_normalized.shape)\n",
        "\n",
        "    next_day_open_values_normalized = np.array([data_normalized[:, 0][i + history_points].copy() for i in range(len(data_normalized) - history_points)])\n",
        "    next_day_open_values_normalized = np.expand_dims(next_day_open_values_normalized, -1) # 1XN 벡터 -> NX1 벡터로\n",
        "\n",
        "    next_day_open_values = np.array([data[:, 0][i + history_points].copy() for i in range(len(data) - history_points)])\n",
        "    next_day_open_values = np.expand_dims(next_day_open_values, -1) # 1XN 벡터 -> NX1 벡터로\n",
        "\n",
        "    y_normalizer = preprocessing.MinMaxScaler()\n",
        "    y_normalizer.fit(next_day_open_values)\n",
        "\n",
        "    # 인풋 X : 그 이전의 OHLCV (from T = -50 to T = -1)\n",
        "    # 아웃풋 y : 예측하고자 하는 주가 T = 0\n",
        "\n",
        "    def calc_ema(values, time_period):\n",
        "        # https://www.investopedia.com/ask/answers/122314/what-exponential-moving-average-ema-formula-and-how-ema-calculated.asp\n",
        "        sma = np.mean(values[:, 3])\n",
        "        ema_values = [sma]\n",
        "        k = 2 / (1 + time_period)\n",
        "        for i in range(len(his) - time_period, len(his)):\n",
        "            close = his[i][3]\n",
        "            ema_values.append(close * k + ema_values[-1] * (1 - k))\n",
        "        return ema_values[-1]\n",
        "\n",
        "    technical_indicators = []\n",
        "    for his in ohlcv_histories_normalized:\n",
        "        # note since we are using his[3] we are taking the SMA of the closing price\n",
        "        # print('his: ', his)\n",
        "        # print('his[:, 3]: ', his[:, 3])\n",
        "        sma = np.mean(his[:, 3]) # 각 데이터포인트별 Close Price 평균\n",
        "        macd = calc_ema(his, 12) - calc_ema(his, 26) # 12일 EMA - 26일 EMA\n",
        "        technical_indicators.append(np.array([sma]))\n",
        "        # technical_indicators.append(np.array([sma,macd,]))\n",
        "\n",
        "    technical_indicators = np.array(technical_indicators)\n",
        "\n",
        "    tech_ind_scaler = preprocessing.MinMaxScaler()\n",
        "    technical_indicators_normalized = tech_ind_scaler.fit_transform(technical_indicators)\n",
        "\n",
        "    technical_indicators = np.array(technical_indicators)\n",
        "\n",
        "    tech_ind_scaler = preprocessing.MinMaxScaler()\n",
        "    technical_indicators_normalized = tech_ind_scaler.fit_transform(technical_indicators)\n",
        "\n",
        "    assert ohlcv_histories_normalized.shape[0] == next_day_open_values_normalized.shape[0] == technical_indicators_normalized.shape[0]\n",
        "\n",
        "    print('ohlcv_histories_normalized.shape[0]: ', ohlcv_histories_normalized.shape[0])\n",
        "\n",
        "    return ohlcv_histories_normalized, technical_indicators_normalized, next_day_open_values_normalized, next_day_open_values, y_normalizer"
      ],
      "execution_count": null,
      "outputs": []
    },
    {
      "cell_type": "code",
      "metadata": {
        "tags": [],
        "colab": {
          "base_uri": "https://localhost:8080/"
        },
        "id": "sjlBLXFufTpu",
        "outputId": "0c03eb7c-876c-476f-f051-d393c6a9301b"
      },
      "source": [
        "history_points = 50\n",
        "ticker = '005930' # sk hynix\n",
        "\n",
        "import keras\n",
        "from keras.models import Model\n",
        "from keras.layers import Dense, Dropout, LSTM, Input, Activation\n",
        "from keras import optimizers\n",
        "import numpy as np\n",
        "np.random.seed(4)\n",
        "# from tensorflow import set_random_seed\n",
        "import tensorflow\n",
        "print(tensorflow.__version__)\n",
        "tensorflow.random.set_seed(44)\n",
        "# from util import csv_to_dataset, history_points\n",
        "\n",
        "# dataset\n",
        "\n",
        "ohlcv_histories, _, next_day_open_values, unscaled_y, y_normaliser = call_dataset(ticker=ticker)\n",
        "\n",
        "train_ratio = 0.7\n",
        "n = int(ohlcv_histories.shape[0] * train_ratio)\n",
        "\n",
        "ohlcv_train = ohlcv_histories[-n:-1]\n",
        "y_train = next_day_open_values[-n:-1]\n",
        "\n",
        "ohlcv_test = ohlcv_histories[:ohlcv_histories.shape[0]-n]\n",
        "y_test = next_day_open_values[:ohlcv_histories.shape[0]-n]\n",
        "\n",
        "unscaled_y_test = unscaled_y[:ohlcv_histories.shape[0]-n]\n",
        "\n",
        "print('ohlcv_train.shape: ', ohlcv_train.shape)\n",
        "print('ohlcv_test.shape: ',ohlcv_test.shape)"
      ],
      "execution_count": null,
      "outputs": [
        {
          "output_type": "stream",
          "text": [
            "2.4.1\n",
            "data:  (1534, 5)\n",
            "data_normalized:  (1534, 5)\n",
            "ohlcv_histories_normalized:  (1484, 50, 5)\n",
            "ohlcv_histories_normalized.shape[0]:  1484\n",
            "ohlcv_train.shape:  (1037, 50, 5)\n",
            "ohlcv_test.shape:  (446, 50, 5)\n"
          ],
          "name": "stdout"
        }
      ]
    },
    {
      "cell_type": "code",
      "metadata": {
        "colab": {
          "base_uri": "https://localhost:8080/"
        },
        "id": "deg3j5EqfTpw",
        "outputId": "5fc53190-a4ed-4c40-b631-0a91f51987bc"
      },
      "source": [
        "ohlcv_train "
      ],
      "execution_count": null,
      "outputs": [
        {
          "output_type": "execute_result",
          "data": {
            "text/plain": [
              "array([[[0.35436323, 0.33140496, 0.35575419, 0.15216767, 0.00218503],\n",
              "        [0.35369878, 0.3303719 , 0.34905028, 0.14355441, 0.00233295],\n",
              "        [0.34795127, 0.33409091, 0.3477095 , 0.14527706, 0.00312647],\n",
              "        ...,\n",
              "        [0.39224806, 0.37231405, 0.39553073, 0.21102498, 0.00166466],\n",
              "        [0.39844961, 0.37438017, 0.40089385, 0.2118863 , 0.00102996],\n",
              "        [0.40177187, 0.37830579, 0.4024581 , 0.21734137, 0.00162949]],\n",
              "\n",
              "       [[0.35369878, 0.3303719 , 0.34905028, 0.14355441, 0.00233295],\n",
              "        [0.34795127, 0.33409091, 0.3477095 , 0.14527706, 0.00312647],\n",
              "        [0.34994463, 0.33347107, 0.35307263, 0.15704852, 0.00226213],\n",
              "        ...,\n",
              "        [0.39844961, 0.37438017, 0.40089385, 0.2118863 , 0.00102996],\n",
              "        [0.40177187, 0.37830579, 0.4024581 , 0.21734137, 0.00162949],\n",
              "        [0.40420819, 0.37727273, 0.40335196, 0.21274763, 0.00176549]],\n",
              "\n",
              "       [[0.34795127, 0.33409091, 0.3477095 , 0.14527706, 0.00312647],\n",
              "        [0.34994463, 0.33347107, 0.35307263, 0.15704852, 0.00226213],\n",
              "        [0.35791805, 0.33863636, 0.36      , 0.16422624, 0.00267251],\n",
              "        ...,\n",
              "        [0.40177187, 0.37830579, 0.4024581 , 0.21734137, 0.00162949],\n",
              "        [0.40420819, 0.37727273, 0.40335196, 0.21274763, 0.00176549],\n",
              "        [0.39933555, 0.37252066, 0.39709497, 0.20413437, 0.00242895]],\n",
              "\n",
              "       ...,\n",
              "\n",
              "       [[0.99667774, 1.        , 1.        , 1.        , 1.        ],\n",
              "        [1.        , 0.94421488, 0.98100559, 0.99425782, 0.5390818 ],\n",
              "        [0.9944629 , 0.94214876, 0.99553073, 0.98133793, 0.39940621],\n",
              "        ...,\n",
              "        [0.90808416, 0.85020661, 0.91284916, 0.87080103, 0.14030608],\n",
              "        [0.91472868, 0.85640496, 0.91396648, 0.86792995, 0.14727572],\n",
              "        [0.89700997, 0.84297521, 0.90167598, 0.85644559, 0.19850954]],\n",
              "\n",
              "       [[1.        , 0.94421488, 0.98100559, 0.99425782, 0.5390818 ],\n",
              "        [0.9944629 , 0.94214876, 0.99553073, 0.98133793, 0.39940621],\n",
              "        [0.98228128, 0.92975207, 0.99106145, 0.98133793, 0.29227203],\n",
              "        ...,\n",
              "        [0.91472868, 0.85640496, 0.91396648, 0.86792995, 0.14727572],\n",
              "        [0.89700997, 0.84297521, 0.90167598, 0.85644559, 0.19850954],\n",
              "        [0.89700997, 0.8481405 , 0.9027933 , 0.85931668, 0.16343097]],\n",
              "\n",
              "       [[0.9944629 , 0.94214876, 0.99553073, 0.98133793, 0.39940621],\n",
              "        [0.98228128, 0.92975207, 0.99106145, 0.98133793, 0.29227203],\n",
              "        [0.9944629 , 0.94834711, 0.98324022, 0.95693368, 0.37020512],\n",
              "        ...,\n",
              "        [0.89700997, 0.84297521, 0.90167598, 0.85644559, 0.19850954],\n",
              "        [0.89700997, 0.8481405 , 0.9027933 , 0.85931668, 0.16343097],\n",
              "        [0.90143965, 0.84297521, 0.90502793, 0.86362331, 0.14224695]]])"
            ]
          },
          "metadata": {
            "tags": []
          },
          "execution_count": 17
        }
      ]
    },
    {
      "cell_type": "code",
      "metadata": {
        "colab": {
          "base_uri": "https://localhost:8080/"
        },
        "id": "asdN_HvQfTpw",
        "outputId": "8809e7c8-3e08-434c-e9da-a0804b231fd9"
      },
      "source": [
        "# model architecture\n",
        "lstm_input = Input(shape=(history_points, 5), name='lstm_input')\n",
        "x = LSTM(50, name='lstm_0')(lstm_input)\n",
        "x = Dropout(0.2, name='lstm_dropout_0')(x)\n",
        "x = Dense(64, name='dense_0')(x)\n",
        "x = Activation('sigmoid', name='sigmoid_0')(x)\n",
        "x = Dense(1, name='dense_1')(x)\n",
        "output = Activation('linear', name='linear_output')(x)\n",
        "\n",
        "model = Model(inputs=lstm_input, outputs=output)\n",
        "adam = optimizers.Adam(lr=0.0005)\n",
        "model.compile(optimizer=adam, loss='mse')\n",
        "model.fit(x=ohlcv_train, y=y_train, batch_size=32, epochs=70, shuffle=True, validation_split=0.1)\n",
        "# evaluation\n",
        "\n",
        "y_test_predicted = model.predict(ohlcv_test)\n",
        "y_test_predicted = y_normaliser.inverse_transform(y_test_predicted)\n",
        "y_predicted = model.predict(ohlcv_histories)\n",
        "y_predicted = y_normaliser.inverse_transform(y_predicted)\n",
        "\n",
        "assert unscaled_y_test.shape == y_test_predicted.shape\n",
        "real_mse = np.mean(np.square(unscaled_y_test - y_test_predicted))\n",
        "scaled_mse = real_mse / (np.max(unscaled_y_test) - np.min(unscaled_y_test)) * 100\n",
        "print(scaled_mse)\n",
        "\n",
        "from datetime import datetime\n",
        "model.save(f'basic_model.h5')"
      ],
      "execution_count": null,
      "outputs": [
        {
          "output_type": "stream",
          "text": [
            "Epoch 1/70\n",
            "30/30 [==============================] - 3s 35ms/step - loss: 0.1943 - val_loss: 0.0144\n",
            "Epoch 2/70\n",
            "30/30 [==============================] - 1s 22ms/step - loss: 0.0083 - val_loss: 0.0588\n",
            "Epoch 3/70\n",
            "30/30 [==============================] - 1s 22ms/step - loss: 0.0044 - val_loss: 0.0499\n",
            "Epoch 4/70\n",
            "30/30 [==============================] - 1s 23ms/step - loss: 0.0028 - val_loss: 0.0489\n",
            "Epoch 5/70\n",
            "30/30 [==============================] - 1s 23ms/step - loss: 0.0031 - val_loss: 0.0439\n",
            "Epoch 6/70\n",
            "30/30 [==============================] - 1s 23ms/step - loss: 0.0023 - val_loss: 0.0390\n",
            "Epoch 7/70\n",
            "30/30 [==============================] - 1s 23ms/step - loss: 0.0029 - val_loss: 0.0312\n",
            "Epoch 8/70\n",
            "30/30 [==============================] - 1s 23ms/step - loss: 0.0026 - val_loss: 0.0309\n",
            "Epoch 9/70\n",
            "30/30 [==============================] - 1s 22ms/step - loss: 0.0021 - val_loss: 0.0213\n",
            "Epoch 10/70\n",
            "30/30 [==============================] - 1s 23ms/step - loss: 0.0024 - val_loss: 0.0095\n",
            "Epoch 11/70\n",
            "30/30 [==============================] - 1s 23ms/step - loss: 0.0019 - val_loss: 0.0110\n",
            "Epoch 12/70\n",
            "30/30 [==============================] - 1s 23ms/step - loss: 0.0024 - val_loss: 0.0051\n",
            "Epoch 13/70\n",
            "30/30 [==============================] - 1s 23ms/step - loss: 0.0023 - val_loss: 0.0012\n",
            "Epoch 14/70\n",
            "30/30 [==============================] - 1s 23ms/step - loss: 0.0016 - val_loss: 0.0027\n",
            "Epoch 15/70\n",
            "30/30 [==============================] - 1s 23ms/step - loss: 0.0018 - val_loss: 0.0022\n",
            "Epoch 16/70\n",
            "30/30 [==============================] - 1s 23ms/step - loss: 0.0014 - val_loss: 0.0012\n",
            "Epoch 17/70\n",
            "30/30 [==============================] - 1s 23ms/step - loss: 0.0014 - val_loss: 0.0015\n",
            "Epoch 18/70\n",
            "30/30 [==============================] - 1s 23ms/step - loss: 0.0015 - val_loss: 0.0033\n",
            "Epoch 19/70\n",
            "30/30 [==============================] - 1s 22ms/step - loss: 0.0021 - val_loss: 0.0026\n",
            "Epoch 20/70\n",
            "30/30 [==============================] - 1s 23ms/step - loss: 0.0014 - val_loss: 0.0023\n",
            "Epoch 21/70\n",
            "30/30 [==============================] - 1s 23ms/step - loss: 0.0012 - val_loss: 0.0020\n",
            "Epoch 22/70\n",
            "30/30 [==============================] - 1s 22ms/step - loss: 0.0017 - val_loss: 0.0015\n",
            "Epoch 23/70\n",
            "30/30 [==============================] - 1s 23ms/step - loss: 0.0015 - val_loss: 0.0022\n",
            "Epoch 24/70\n",
            "30/30 [==============================] - 1s 22ms/step - loss: 0.0012 - val_loss: 0.0030\n",
            "Epoch 25/70\n",
            "30/30 [==============================] - 1s 23ms/step - loss: 9.7135e-04 - val_loss: 0.0037\n",
            "Epoch 26/70\n",
            "30/30 [==============================] - 1s 23ms/step - loss: 0.0013 - val_loss: 0.0030\n",
            "Epoch 27/70\n",
            "30/30 [==============================] - 1s 23ms/step - loss: 0.0010 - val_loss: 0.0022\n",
            "Epoch 28/70\n",
            "30/30 [==============================] - 1s 24ms/step - loss: 0.0013 - val_loss: 0.0023\n",
            "Epoch 29/70\n",
            "30/30 [==============================] - 1s 23ms/step - loss: 0.0018 - val_loss: 0.0033\n",
            "Epoch 30/70\n",
            "30/30 [==============================] - 1s 23ms/step - loss: 0.0029 - val_loss: 0.0016\n",
            "Epoch 31/70\n",
            "30/30 [==============================] - 1s 23ms/step - loss: 0.0015 - val_loss: 0.0016\n",
            "Epoch 32/70\n",
            "30/30 [==============================] - 1s 22ms/step - loss: 0.0011 - val_loss: 0.0022\n",
            "Epoch 33/70\n",
            "30/30 [==============================] - 1s 23ms/step - loss: 9.8339e-04 - val_loss: 0.0014\n",
            "Epoch 34/70\n",
            "30/30 [==============================] - 1s 23ms/step - loss: 0.0012 - val_loss: 0.0014\n",
            "Epoch 35/70\n",
            "30/30 [==============================] - 1s 23ms/step - loss: 9.6832e-04 - val_loss: 0.0012\n",
            "Epoch 36/70\n",
            "30/30 [==============================] - 1s 23ms/step - loss: 0.0016 - val_loss: 9.9486e-04\n",
            "Epoch 37/70\n",
            "30/30 [==============================] - 1s 23ms/step - loss: 7.0234e-04 - val_loss: 0.0015\n",
            "Epoch 38/70\n",
            "30/30 [==============================] - 1s 22ms/step - loss: 0.0012 - val_loss: 0.0016\n",
            "Epoch 39/70\n",
            "30/30 [==============================] - 1s 23ms/step - loss: 0.0015 - val_loss: 0.0015\n",
            "Epoch 40/70\n",
            "30/30 [==============================] - 1s 23ms/step - loss: 0.0012 - val_loss: 0.0016\n",
            "Epoch 41/70\n",
            "30/30 [==============================] - 1s 23ms/step - loss: 0.0013 - val_loss: 0.0013\n",
            "Epoch 42/70\n",
            "30/30 [==============================] - 1s 23ms/step - loss: 0.0013 - val_loss: 9.1802e-04\n",
            "Epoch 43/70\n",
            "30/30 [==============================] - 1s 24ms/step - loss: 0.0010 - val_loss: 9.6146e-04\n",
            "Epoch 44/70\n",
            "30/30 [==============================] - 1s 23ms/step - loss: 8.0957e-04 - val_loss: 7.5643e-04\n",
            "Epoch 45/70\n",
            "30/30 [==============================] - 1s 23ms/step - loss: 0.0010 - val_loss: 0.0012\n",
            "Epoch 46/70\n",
            "30/30 [==============================] - 1s 23ms/step - loss: 0.0013 - val_loss: 8.0851e-04\n",
            "Epoch 47/70\n",
            "30/30 [==============================] - 1s 23ms/step - loss: 8.0729e-04 - val_loss: 7.3227e-04\n",
            "Epoch 48/70\n",
            "30/30 [==============================] - 1s 23ms/step - loss: 0.0011 - val_loss: 6.6100e-04\n",
            "Epoch 49/70\n",
            "30/30 [==============================] - 1s 23ms/step - loss: 9.2397e-04 - val_loss: 0.0035\n",
            "Epoch 50/70\n",
            "30/30 [==============================] - 1s 24ms/step - loss: 0.0019 - val_loss: 0.0037\n",
            "Epoch 51/70\n",
            "30/30 [==============================] - 1s 23ms/step - loss: 0.0015 - val_loss: 7.6625e-04\n",
            "Epoch 52/70\n",
            "30/30 [==============================] - 1s 23ms/step - loss: 0.0011 - val_loss: 7.9607e-04\n",
            "Epoch 53/70\n",
            "30/30 [==============================] - 1s 22ms/step - loss: 0.0012 - val_loss: 7.0093e-04\n",
            "Epoch 54/70\n",
            "30/30 [==============================] - 1s 23ms/step - loss: 6.8409e-04 - val_loss: 6.5762e-04\n",
            "Epoch 55/70\n",
            "30/30 [==============================] - 1s 23ms/step - loss: 0.0013 - val_loss: 6.4847e-04\n",
            "Epoch 56/70\n",
            "30/30 [==============================] - 1s 23ms/step - loss: 0.0015 - val_loss: 6.5694e-04\n",
            "Epoch 57/70\n",
            "30/30 [==============================] - 1s 24ms/step - loss: 6.7533e-04 - val_loss: 6.9006e-04\n",
            "Epoch 58/70\n",
            "30/30 [==============================] - 1s 23ms/step - loss: 9.8620e-04 - val_loss: 6.3010e-04\n",
            "Epoch 59/70\n",
            "30/30 [==============================] - 1s 23ms/step - loss: 0.0011 - val_loss: 7.2953e-04\n",
            "Epoch 60/70\n",
            "30/30 [==============================] - 1s 23ms/step - loss: 0.0011 - val_loss: 6.7827e-04\n",
            "Epoch 61/70\n",
            "30/30 [==============================] - 1s 23ms/step - loss: 9.6128e-04 - val_loss: 6.5929e-04\n",
            "Epoch 62/70\n",
            "30/30 [==============================] - 1s 23ms/step - loss: 0.0010 - val_loss: 6.9124e-04\n",
            "Epoch 63/70\n",
            "30/30 [==============================] - 1s 23ms/step - loss: 0.0011 - val_loss: 6.2228e-04\n",
            "Epoch 64/70\n",
            "30/30 [==============================] - 1s 23ms/step - loss: 0.0016 - val_loss: 7.2252e-04\n",
            "Epoch 65/70\n",
            "30/30 [==============================] - 1s 24ms/step - loss: 0.0019 - val_loss: 6.7507e-04\n",
            "Epoch 66/70\n",
            "30/30 [==============================] - 1s 23ms/step - loss: 0.0024 - val_loss: 7.9002e-04\n",
            "Epoch 67/70\n",
            "30/30 [==============================] - 1s 24ms/step - loss: 0.0013 - val_loss: 9.0245e-04\n",
            "Epoch 68/70\n",
            "30/30 [==============================] - 1s 24ms/step - loss: 0.0013 - val_loss: 5.6366e-04\n",
            "Epoch 69/70\n",
            "30/30 [==============================] - 1s 23ms/step - loss: 6.6929e-04 - val_loss: 7.7438e-04\n",
            "Epoch 70/70\n",
            "30/30 [==============================] - 1s 23ms/step - loss: 0.0012 - val_loss: 5.4608e-04\n",
            "122903.71832743363\n"
          ],
          "name": "stdout"
        }
      ]
    },
    {
      "cell_type": "code",
      "metadata": {
        "colab": {
          "base_uri": "https://localhost:8080/",
          "height": 879
        },
        "id": "JxmuA0wAfTpx",
        "outputId": "16ff4e86-6589-4ea0-803c-9dcf3a500577"
      },
      "source": [
        "import matplotlib.pyplot as plt\n",
        "\n",
        "plt.gcf().set_size_inches(22, 15, forward=True)\n",
        "\n",
        "start = 0\n",
        "end = -1\n",
        "\n",
        "# real = plt.plot(unscaled_y_test[start:end], label='real') \n",
        "# pred = plt.plot(y_test_predicted[start:end], label='predicted')\n",
        "\n",
        "real = plt.plot(unscaled_y[start:end], label='real')\n",
        "pred = plt.plot(y_predicted[start:end], label='predicted')\n",
        "\n",
        "plt.legend(['Real', 'Predicted'])\n",
        "plt.title('Samsung Using LSTM by TGG')\n",
        "plt.show()"
      ],
      "execution_count": null,
      "outputs": [
        {
          "output_type": "display_data",
          "data": {
            "image/png": "[encoded data removed]",
            "text/plain": [
              "<Figure size 1584x1080 with 1 Axes>"
            ]
          },
          "metadata": {
            "tags": [],
            "needs_background": "light"
          }
        }
      ]
    },
    {
      "cell_type": "code",
      "metadata": {
        "id": "K6dmNI-xfTpx"
      },
      "source": [
        "col_name = ['real', 'pred']\n",
        "real, pred = pd.DataFrame(unscaled_y[start:end]), pd.DataFrame(y_predicted[start:end])\n",
        "foo = pd.concat([real, pred], axis = 1)\n",
        "foo.columns = col_name"
      ],
      "execution_count": null,
      "outputs": []
    },
    {
      "cell_type": "code",
      "metadata": {
        "colab": {
          "base_uri": "https://localhost:8080/",
          "height": 402
        },
        "id": "rUDrmfI7fTpy",
        "outputId": "61a4fee8-8eb7-4106-861f-e32cceb0cecb"
      },
      "source": [
        "foo"
      ],
      "execution_count": null,
      "outputs": [
        {
          "output_type": "execute_result",
          "data": {
            "text/html": [
              "<div>\n",
              "<style scoped>\n",
              "    .dataframe tbody tr th:only-of-type {\n",
              "        vertical-align: middle;\n",
              "    }\n",
              "\n",
              "    .dataframe tbody tr th {\n",
              "        vertical-align: top;\n",
              "    }\n",
              "\n",
              "    .dataframe thead th {\n",
              "        text-align: right;\n",
              "    }\n",
              "</style>\n",
              "<table border=\"1\" class=\"dataframe\">\n",
              "  <thead>\n",
              "    <tr style=\"text-align: right;\">\n",
              "      <th></th>\n",
              "      <th>real</th>\n",
              "      <th>pred</th>\n",
              "    </tr>\n",
              "  </thead>\n",
              "  <tbody>\n",
              "    <tr>\n",
              "      <th>0</th>\n",
              "      <td>29920</td>\n",
              "      <td>32728.505859</td>\n",
              "    </tr>\n",
              "    <tr>\n",
              "      <th>1</th>\n",
              "      <td>30200</td>\n",
              "      <td>32878.960938</td>\n",
              "    </tr>\n",
              "    <tr>\n",
              "      <th>2</th>\n",
              "      <td>29500</td>\n",
              "      <td>32953.449219</td>\n",
              "    </tr>\n",
              "    <tr>\n",
              "      <th>3</th>\n",
              "      <td>29240</td>\n",
              "      <td>32938.812500</td>\n",
              "    </tr>\n",
              "    <tr>\n",
              "      <th>4</th>\n",
              "      <td>29099</td>\n",
              "      <td>32915.710938</td>\n",
              "    </tr>\n",
              "    <tr>\n",
              "      <th>...</th>\n",
              "      <td>...</td>\n",
              "      <td>...</td>\n",
              "    </tr>\n",
              "    <tr>\n",
              "      <th>1478</th>\n",
              "      <td>82600</td>\n",
              "      <td>82467.828125</td>\n",
              "    </tr>\n",
              "    <tr>\n",
              "      <th>1479</th>\n",
              "      <td>81000</td>\n",
              "      <td>82460.726562</td>\n",
              "    </tr>\n",
              "    <tr>\n",
              "      <th>1480</th>\n",
              "      <td>81000</td>\n",
              "      <td>82100.882812</td>\n",
              "    </tr>\n",
              "    <tr>\n",
              "      <th>1481</th>\n",
              "      <td>81400</td>\n",
              "      <td>81890.476562</td>\n",
              "    </tr>\n",
              "    <tr>\n",
              "      <th>1482</th>\n",
              "      <td>81700</td>\n",
              "      <td>81764.695312</td>\n",
              "    </tr>\n",
              "  </tbody>\n",
              "</table>\n",
              "<p>1483 rows × 2 columns</p>\n",
              "</div>"
            ],
            "text/plain": [
              "       real          pred\n",
              "0     29920  32728.505859\n",
              "1     30200  32878.960938\n",
              "2     29500  32953.449219\n",
              "3     29240  32938.812500\n",
              "4     29099  32915.710938\n",
              "...     ...           ...\n",
              "1478  82600  82467.828125\n",
              "1479  81000  82460.726562\n",
              "1480  81000  82100.882812\n",
              "1481  81400  81890.476562\n",
              "1482  81700  81764.695312\n",
              "\n",
              "[1483 rows x 2 columns]"
            ]
          },
          "metadata": {
            "tags": []
          },
          "execution_count": 39
        }
      ]
    },
    {
      "cell_type": "code",
      "metadata": {
        "colab": {
          "base_uri": "https://localhost:8080/",
          "height": 106
        },
        "id": "OoIZyVdSfTpy",
        "outputId": "9862c677-7843-40ef-959b-56cf87fc0a09"
      },
      "source": [
        "foo.corr()"
      ],
      "execution_count": null,
      "outputs": [
        {
          "output_type": "execute_result",
          "data": {
            "text/html": [
              "<div>\n",
              "<style scoped>\n",
              "    .dataframe tbody tr th:only-of-type {\n",
              "        vertical-align: middle;\n",
              "    }\n",
              "\n",
              "    .dataframe tbody tr th {\n",
              "        vertical-align: top;\n",
              "    }\n",
              "\n",
              "    .dataframe thead th {\n",
              "        text-align: right;\n",
              "    }\n",
              "</style>\n",
              "<table border=\"1\" class=\"dataframe\">\n",
              "  <thead>\n",
              "    <tr style=\"text-align: right;\">\n",
              "      <th></th>\n",
              "      <th>real</th>\n",
              "      <th>pred</th>\n",
              "    </tr>\n",
              "  </thead>\n",
              "  <tbody>\n",
              "    <tr>\n",
              "      <th>real</th>\n",
              "      <td>1.000000</td>\n",
              "      <td>0.982796</td>\n",
              "    </tr>\n",
              "    <tr>\n",
              "      <th>pred</th>\n",
              "      <td>0.982796</td>\n",
              "      <td>1.000000</td>\n",
              "    </tr>\n",
              "  </tbody>\n",
              "</table>\n",
              "</div>"
            ],
            "text/plain": [
              "          real      pred\n",
              "real  1.000000  0.982796\n",
              "pred  0.982796  1.000000"
            ]
          },
          "metadata": {
            "tags": []
          },
          "execution_count": 40
        }
      ]
    },
    {
      "cell_type": "code",
      "metadata": {
        "colab": {
          "base_uri": "https://localhost:8080/",
          "height": 106
        },
        "id": "i1cYgpsRfTpz",
        "outputId": "88a74da1-f320-4c7d-aa5b-c9040f1230b9"
      },
      "source": [
        "foo['real+1'] = foo['real'].shift(periods = 1)\n",
        "foo[['real+1', 'pred']].corr()"
      ],
      "execution_count": null,
      "outputs": [
        {
          "output_type": "execute_result",
          "data": {
            "text/html": [
              "<div>\n",
              "<style scoped>\n",
              "    .dataframe tbody tr th:only-of-type {\n",
              "        vertical-align: middle;\n",
              "    }\n",
              "\n",
              "    .dataframe tbody tr th {\n",
              "        vertical-align: top;\n",
              "    }\n",
              "\n",
              "    .dataframe thead th {\n",
              "        text-align: right;\n",
              "    }\n",
              "</style>\n",
              "<table border=\"1\" class=\"dataframe\">\n",
              "  <thead>\n",
              "    <tr style=\"text-align: right;\">\n",
              "      <th></th>\n",
              "      <th>real+1</th>\n",
              "      <th>pred</th>\n",
              "    </tr>\n",
              "  </thead>\n",
              "  <tbody>\n",
              "    <tr>\n",
              "      <th>real+1</th>\n",
              "      <td>1.000000</td>\n",
              "      <td>0.986687</td>\n",
              "    </tr>\n",
              "    <tr>\n",
              "      <th>pred</th>\n",
              "      <td>0.986687</td>\n",
              "      <td>1.000000</td>\n",
              "    </tr>\n",
              "  </tbody>\n",
              "</table>\n",
              "</div>"
            ],
            "text/plain": [
              "          real+1      pred\n",
              "real+1  1.000000  0.986687\n",
              "pred    0.986687  1.000000"
            ]
          },
          "metadata": {
            "tags": []
          },
          "execution_count": 41
        }
      ]
    },
    {
      "cell_type": "code",
      "metadata": {
        "id": "pqtb4UfUlniL"
      },
      "source": [
        ""
      ],
      "execution_count": null,
      "outputs": []
    }
  ]
}